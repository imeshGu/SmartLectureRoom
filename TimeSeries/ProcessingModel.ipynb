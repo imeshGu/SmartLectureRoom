{
 "cells": [
  {
   "cell_type": "code",
   "execution_count": 2,
   "metadata": {},
   "outputs": [],
   "source": [
    "import pandas as pd\n",
    "import numpy as np\n",
    "import matplotlib.pyplot as plot\n",
    "import seaborn as sns"
   ]
  },
  {
   "cell_type": "code",
   "execution_count": 10,
   "metadata": {},
   "outputs": [],
   "source": [
    "df1 = pd.read_csv('archive/KwhConsumptionBlower78_1.csv')\n",
    "df1 = df1.set_index()"
   ]
  },
  {
   "cell_type": "code",
   "execution_count": 12,
   "metadata": {},
   "outputs": [
    {
     "data": {
      "text/html": [
       "<div>\n",
       "<style scoped>\n",
       "    .dataframe tbody tr th:only-of-type {\n",
       "        vertical-align: middle;\n",
       "    }\n",
       "\n",
       "    .dataframe tbody tr th {\n",
       "        vertical-align: top;\n",
       "    }\n",
       "\n",
       "    .dataframe thead th {\n",
       "        text-align: right;\n",
       "    }\n",
       "</style>\n",
       "<table border=\"1\" class=\"dataframe\">\n",
       "  <thead>\n",
       "    <tr style=\"text-align: right;\">\n",
       "      <th></th>\n",
       "      <th>Unnamed: 0</th>\n",
       "      <th>TxnDate</th>\n",
       "      <th>TxnTime</th>\n",
       "      <th>Consumption</th>\n",
       "    </tr>\n",
       "  </thead>\n",
       "  <tbody>\n",
       "    <tr>\n",
       "      <th>0</th>\n",
       "      <td>76229</td>\n",
       "      <td>01 Jan 2022</td>\n",
       "      <td>16:55:52</td>\n",
       "      <td>1.010</td>\n",
       "    </tr>\n",
       "    <tr>\n",
       "      <th>1</th>\n",
       "      <td>76258</td>\n",
       "      <td>01 Jan 2022</td>\n",
       "      <td>21:45:29</td>\n",
       "      <td>0.908</td>\n",
       "    </tr>\n",
       "    <tr>\n",
       "      <th>2</th>\n",
       "      <td>76287</td>\n",
       "      <td>01 Jan 2022</td>\n",
       "      <td>12:24:52</td>\n",
       "      <td>0.926</td>\n",
       "    </tr>\n",
       "    <tr>\n",
       "      <th>3</th>\n",
       "      <td>76316</td>\n",
       "      <td>01 Jan 2022</td>\n",
       "      <td>04:07:36</td>\n",
       "      <td>0.928</td>\n",
       "    </tr>\n",
       "    <tr>\n",
       "      <th>4</th>\n",
       "      <td>76345</td>\n",
       "      <td>01 Jan 2022</td>\n",
       "      <td>06:52:25</td>\n",
       "      <td>0.916</td>\n",
       "    </tr>\n",
       "  </tbody>\n",
       "</table>\n",
       "</div>"
      ],
      "text/plain": [
       "   Unnamed: 0      TxnDate   TxnTime  Consumption\n",
       "0       76229  01 Jan 2022  16:55:52        1.010\n",
       "1       76258  01 Jan 2022  21:45:29        0.908\n",
       "2       76287  01 Jan 2022  12:24:52        0.926\n",
       "3       76316  01 Jan 2022  04:07:36        0.928\n",
       "4       76345  01 Jan 2022  06:52:25        0.916"
      ]
     },
     "execution_count": 12,
     "metadata": {},
     "output_type": "execute_result"
    }
   ],
   "source": [
    "df1.head()"
   ]
  },
  {
   "cell_type": "code",
   "execution_count": 14,
   "metadata": {},
   "outputs": [],
   "source": [
    "df1['Datetime'] = pd.to_datetime(df1['TxnDate']+ ' ' + df1['TxnTime'])"
   ]
  },
  {
   "cell_type": "code",
   "execution_count": 15,
   "metadata": {},
   "outputs": [
    {
     "data": {
      "text/html": [
       "<div>\n",
       "<style scoped>\n",
       "    .dataframe tbody tr th:only-of-type {\n",
       "        vertical-align: middle;\n",
       "    }\n",
       "\n",
       "    .dataframe tbody tr th {\n",
       "        vertical-align: top;\n",
       "    }\n",
       "\n",
       "    .dataframe thead th {\n",
       "        text-align: right;\n",
       "    }\n",
       "</style>\n",
       "<table border=\"1\" class=\"dataframe\">\n",
       "  <thead>\n",
       "    <tr style=\"text-align: right;\">\n",
       "      <th></th>\n",
       "      <th>Unnamed: 0</th>\n",
       "      <th>TxnDate</th>\n",
       "      <th>TxnTime</th>\n",
       "      <th>Consumption</th>\n",
       "      <th>Datetime</th>\n",
       "    </tr>\n",
       "  </thead>\n",
       "  <tbody>\n",
       "    <tr>\n",
       "      <th>0</th>\n",
       "      <td>76229</td>\n",
       "      <td>01 Jan 2022</td>\n",
       "      <td>16:55:52</td>\n",
       "      <td>1.010</td>\n",
       "      <td>2022-01-01 16:55:52</td>\n",
       "    </tr>\n",
       "    <tr>\n",
       "      <th>1</th>\n",
       "      <td>76258</td>\n",
       "      <td>01 Jan 2022</td>\n",
       "      <td>21:45:29</td>\n",
       "      <td>0.908</td>\n",
       "      <td>2022-01-01 21:45:29</td>\n",
       "    </tr>\n",
       "    <tr>\n",
       "      <th>2</th>\n",
       "      <td>76287</td>\n",
       "      <td>01 Jan 2022</td>\n",
       "      <td>12:24:52</td>\n",
       "      <td>0.926</td>\n",
       "      <td>2022-01-01 12:24:52</td>\n",
       "    </tr>\n",
       "    <tr>\n",
       "      <th>3</th>\n",
       "      <td>76316</td>\n",
       "      <td>01 Jan 2022</td>\n",
       "      <td>04:07:36</td>\n",
       "      <td>0.928</td>\n",
       "      <td>2022-01-01 04:07:36</td>\n",
       "    </tr>\n",
       "    <tr>\n",
       "      <th>4</th>\n",
       "      <td>76345</td>\n",
       "      <td>01 Jan 2022</td>\n",
       "      <td>06:52:25</td>\n",
       "      <td>0.916</td>\n",
       "      <td>2022-01-01 06:52:25</td>\n",
       "    </tr>\n",
       "  </tbody>\n",
       "</table>\n",
       "</div>"
      ],
      "text/plain": [
       "   Unnamed: 0      TxnDate   TxnTime  Consumption            Datetime\n",
       "0       76229  01 Jan 2022  16:55:52        1.010 2022-01-01 16:55:52\n",
       "1       76258  01 Jan 2022  21:45:29        0.908 2022-01-01 21:45:29\n",
       "2       76287  01 Jan 2022  12:24:52        0.926 2022-01-01 12:24:52\n",
       "3       76316  01 Jan 2022  04:07:36        0.928 2022-01-01 04:07:36\n",
       "4       76345  01 Jan 2022  06:52:25        0.916 2022-01-01 06:52:25"
      ]
     },
     "execution_count": 15,
     "metadata": {},
     "output_type": "execute_result"
    }
   ],
   "source": [
    "df1.head()"
   ]
  },
  {
   "cell_type": "code",
   "execution_count": 16,
   "metadata": {},
   "outputs": [
    {
     "name": "stdout",
     "output_type": "stream",
     "text": [
      "<class 'pandas.core.frame.DataFrame'>\n",
      "RangeIndex: 1228 entries, 0 to 1227\n",
      "Data columns (total 5 columns):\n",
      " #   Column       Non-Null Count  Dtype         \n",
      "---  ------       --------------  -----         \n",
      " 0   Unnamed: 0   1228 non-null   int64         \n",
      " 1   TxnDate      1228 non-null   object        \n",
      " 2   TxnTime      1228 non-null   object        \n",
      " 3   Consumption  1228 non-null   float64       \n",
      " 4   Datetime     1228 non-null   datetime64[ns]\n",
      "dtypes: datetime64[ns](1), float64(1), int64(1), object(2)\n",
      "memory usage: 48.1+ KB\n"
     ]
    }
   ],
   "source": [
    "df1.info()"
   ]
  },
  {
   "cell_type": "code",
   "execution_count": 17,
   "metadata": {},
   "outputs": [],
   "source": [
    "df1 = df1.set_index('Datetime')"
   ]
  },
  {
   "cell_type": "code",
   "execution_count": 18,
   "metadata": {},
   "outputs": [
    {
     "data": {
      "text/plain": [
       "<Axes: xlabel='Datetime'>"
      ]
     },
     "execution_count": 18,
     "metadata": {},
     "output_type": "execute_result"
    },
    {
     "data": {
      "image/png": "[encoded data removed]",
      "text/plain": [
       "<Figure size 432x288 with 1 Axes>"
      ]
     },
     "metadata": {
      "needs_background": "light"
     },
     "output_type": "display_data"
    }
   ],
   "source": [
    "df1.plot()"
   ]
  },
  {
   "cell_type": "code",
   "execution_count": 22,
   "metadata": {},
   "outputs": [
    {
     "data": {
      "text/html": [
       "<div>\n",
       "<style scoped>\n",
       "    .dataframe tbody tr th:only-of-type {\n",
       "        vertical-align: middle;\n",
       "    }\n",
       "\n",
       "    .dataframe tbody tr th {\n",
       "        vertical-align: top;\n",
       "    }\n",
       "\n",
       "    .dataframe thead th {\n",
       "        text-align: right;\n",
       "    }\n",
       "</style>\n",
       "<table border=\"1\" class=\"dataframe\">\n",
       "  <thead>\n",
       "    <tr style=\"text-align: right;\">\n",
       "      <th></th>\n",
       "      <th>Unnamed: 0</th>\n",
       "      <th>TxnDate</th>\n",
       "      <th>TxnTime</th>\n",
       "      <th>Consumption</th>\n",
       "      <th>Unnamed</th>\n",
       "    </tr>\n",
       "    <tr>\n",
       "      <th>Datetime</th>\n",
       "      <th></th>\n",
       "      <th></th>\n",
       "      <th></th>\n",
       "      <th></th>\n",
       "      <th></th>\n",
       "    </tr>\n",
       "  </thead>\n",
       "  <tbody>\n",
       "    <tr>\n",
       "      <th>2022-01-01 16:55:52</th>\n",
       "      <td>76229</td>\n",
       "      <td>01 Jan 2022</td>\n",
       "      <td>16:55:52</td>\n",
       "      <td>1.010</td>\n",
       "      <td>4</td>\n",
       "    </tr>\n",
       "    <tr>\n",
       "      <th>2022-01-01 21:45:29</th>\n",
       "      <td>76258</td>\n",
       "      <td>01 Jan 2022</td>\n",
       "      <td>21:45:29</td>\n",
       "      <td>0.908</td>\n",
       "      <td>4</td>\n",
       "    </tr>\n",
       "    <tr>\n",
       "      <th>2022-01-01 12:24:52</th>\n",
       "      <td>76287</td>\n",
       "      <td>01 Jan 2022</td>\n",
       "      <td>12:24:52</td>\n",
       "      <td>0.926</td>\n",
       "      <td>4</td>\n",
       "    </tr>\n",
       "    <tr>\n",
       "      <th>2022-01-01 04:07:36</th>\n",
       "      <td>76316</td>\n",
       "      <td>01 Jan 2022</td>\n",
       "      <td>04:07:36</td>\n",
       "      <td>0.928</td>\n",
       "      <td>4</td>\n",
       "    </tr>\n",
       "    <tr>\n",
       "      <th>2022-01-01 06:52:25</th>\n",
       "      <td>76345</td>\n",
       "      <td>01 Jan 2022</td>\n",
       "      <td>06:52:25</td>\n",
       "      <td>0.916</td>\n",
       "      <td>4</td>\n",
       "    </tr>\n",
       "  </tbody>\n",
       "</table>\n",
       "</div>"
      ],
      "text/plain": [
       "                     Unnamed: 0      TxnDate   TxnTime  Consumption  Unnamed\n",
       "Datetime                                                                    \n",
       "2022-01-01 16:55:52       76229  01 Jan 2022  16:55:52        1.010        4\n",
       "2022-01-01 21:45:29       76258  01 Jan 2022  21:45:29        0.908        4\n",
       "2022-01-01 12:24:52       76287  01 Jan 2022  12:24:52        0.926        4\n",
       "2022-01-01 04:07:36       76316  01 Jan 2022  04:07:36        0.928        4\n",
       "2022-01-01 06:52:25       76345  01 Jan 2022  06:52:25        0.916        4"
      ]
     },
     "execution_count": 22,
     "metadata": {},
     "output_type": "execute_result"
    }
   ],
   "source": [
    "df1.head()"
   ]
  },
  {
   "cell_type": "code",
   "execution_count": null,
   "metadata": {},
   "outputs": [],
   "source": [
    "df1.()"
   ]
  },
  {
   "cell_type": "code",
   "execution_count": 34,
   "metadata": {},
   "outputs": [
    {
     "ename": "TypeError",
     "evalue": "'DataFrame' object is not callable",
     "output_type": "error",
     "traceback": [
      "\u001b[1;31m---------------------------------------------------------------------------\u001b[0m",
      "\u001b[1;31mTypeError\u001b[0m                                 Traceback (most recent call last)",
      "\u001b[1;32md:\\projects\\research\\smart lecture room\\SmartLectureRoom_RP\\TimeSeries\\ProcessingModel.ipynb Cell 10\u001b[0m line \u001b[0;36m<cell line: 1>\u001b[1;34m()\u001b[0m\n\u001b[1;32m----> <a href='vscode-notebook-cell:/d%3A/projects/research/smart%20lecture%20room/SmartLectureRoom_RP/TimeSeries/ProcessingModel.ipynb#X11sZmlsZQ%3D%3D?line=0'>1</a>\u001b[0m df1(df1[\u001b[39m'\u001b[39;49m\u001b[39mUnnamed: 0\u001b[39;49m\u001b[39m'\u001b[39;49m] \u001b[39m==\u001b[39;49m \u001b[39m'\u001b[39;49m\u001b[39m76229\u001b[39;49m\u001b[39m'\u001b[39;49m)\n",
      "\u001b[1;31mTypeError\u001b[0m: 'DataFrame' object is not callable"
     ]
    }
   ],
   "source": [
    "df1(df1['Unnamed: 0'] == '76229')"
   ]
  },
  {
   "cell_type": "code",
   "execution_count": 28,
   "metadata": {},
   "outputs": [
    {
     "data": {
      "text/plain": [
       "int"
      ]
     },
     "execution_count": 28,
     "metadata": {},
     "output_type": "execute_result"
    }
   ],
   "source": [
    "type(df1O)"
   ]
  },
  {
   "cell_type": "code",
   "execution_count": null,
   "metadata": {},
   "outputs": [],
   "source": []
  }
 ],
 "metadata": {
  "kernelspec": {
   "display_name": "Python 3",
   "language": "python",
   "name": "python3"
  },
  "language_info": {
   "codemirror_mode": {
    "name": "ipython",
    "version": 3
   },
   "file_extension": ".py",
   "mimetype": "text/x-python",
   "name": "python",
   "nbconvert_exporter": "python",
   "pygments_lexer": "ipython3",
   "version": "3.10.4"
  }
 },
 "nbformat": 4,
 "nbformat_minor": 2
}
