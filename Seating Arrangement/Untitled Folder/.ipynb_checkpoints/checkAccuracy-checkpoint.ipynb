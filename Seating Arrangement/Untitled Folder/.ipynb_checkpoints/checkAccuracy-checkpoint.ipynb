{
 "cells": [
  {
   "cell_type": "code",
   "execution_count": 1,
   "id": "a1c227de",
   "metadata": {},
   "outputs": [],
   "source": [
    "import pandas as pd\n",
    "from sklearn.tree import DecisionTreeRegressor, DecisionTreeClassifier\n",
    "from sklearn.model_selection import train_test_split\n",
    "from sklearn.metrics import mean_squared_error, accuracy_score, classification_report\n",
    "from sklearn.preprocessing import LabelEncoder"
   ]
  },
  {
   "cell_type": "code",
   "execution_count": 4,
   "id": "dc5f2d93",
   "metadata": {},
   "outputs": [],
   "source": [
    "def load_and_preprocess_data():\n",
    "    df = pd.read_csv('../video_wall_data.csv')\n",
    "    le = LabelEncoder()\n",
    "    df['seating_type'] = le.fit_transform(df['seating_type'])\n",
    "    return df, le\n",
    "\n",
    "df, le = load_and_preprocess_data()"
   ]
  },
  {
   "cell_type": "code",
   "execution_count": 5,
   "id": "e1ebb026",
   "metadata": {},
   "outputs": [],
   "source": [
    "features = ['height_of_video_wall', 'width_of_video_wall', 'room_length', 'room_width', 'room_height', 'number_of_seats']\n",
    "targets = ['seating_type', 'distance_from_video_wall', 'seats_per_row', 'number_of_rows', 'seats_per_cluster', 'number_of_clusters']\n",
    "\n",
    "train_set, test_set = train_test_split(df, test_size=0.2, random_state=42)\n",
    "\n",
    "# Dropping rows with NaN values in targets for regression\n",
    "for target in targets[1:]:\n",
    "    train_set = train_set.dropna(subset=[target])\n",
    "    test_set = test_set.dropna(subset=[target])"
   ]
  },
  {
   "cell_type": "code",
   "execution_count": 6,
   "id": "0f7411f5",
   "metadata": {},
   "outputs": [],
   "source": [
    "regression_models = {target: DecisionTreeRegressor(random_state=42).fit(train_set[features], train_set[target]) for target in targets[1:]}\n",
    "seating_type_model = DecisionTreeClassifier(random_state=42).fit(train_set[features], train_set['seating_type'])"
   ]
  },
  {
   "cell_type": "code",
   "execution_count": 7,
   "id": "b2708adc",
   "metadata": {},
   "outputs": [
    {
     "name": "stdout",
     "output_type": "stream",
     "text": [
      "distance_from_video_wall - Mean Squared Error: 44.08546959783609\n",
      "seats_per_row - Mean Squared Error: 14.76\n",
      "number_of_rows - Mean Squared Error: 7.51\n",
      "seats_per_cluster - Mean Squared Error: 0.015\n",
      "number_of_clusters - Mean Squared Error: 1.265\n"
     ]
    }
   ],
   "source": [
    "for target, model in regression_models.items():\n",
    "    predictions = model.predict(test_set[features])\n",
    "    mse = mean_squared_error(test_set[target], predictions)\n",
    "    print(f\"{target} - Mean Squared Error: {mse}\")"
   ]
  },
  {
   "cell_type": "code",
   "execution_count": 8,
   "id": "08b03a35",
   "metadata": {
    "scrolled": true
   },
   "outputs": [
    {
     "name": "stdout",
     "output_type": "stream",
     "text": [
      "Seating Type Classification - Accuracy: 0.985\n",
      "              precision    recall  f1-score   support\n",
      "\n",
      "           0       0.97      1.00      0.99       103\n",
      "           1       1.00      0.97      0.98        97\n",
      "\n",
      "    accuracy                           0.98       200\n",
      "   macro avg       0.99      0.98      0.98       200\n",
      "weighted avg       0.99      0.98      0.98       200\n",
      "\n"
     ]
    }
   ],
   "source": [
    "seating_type_predictions = seating_type_model.predict(test_set[features])\n",
    "accuracy = accuracy_score(test_set['seating_type'], seating_type_predictions)\n",
    "print(f\"Seating Type Classification - Accuracy: {accuracy}\")\n",
    "\n",
    "# For a detailed classification report\n",
    "print(classification_report(test_set['seating_type'], seating_type_predictions))"
   ]
  },
  {
   "cell_type": "code",
   "execution_count": null,
   "id": "cf2cf221",
   "metadata": {},
   "outputs": [],
   "source": []
  }
 ],
 "metadata": {
  "kernelspec": {
   "display_name": "Python 3 (ipykernel)",
   "language": "python",
   "name": "python3"
  },
  "language_info": {
   "codemirror_mode": {
    "name": "ipython",
    "version": 3
   },
   "file_extension": ".py",
   "mimetype": "text/x-python",
   "name": "python",
   "nbconvert_exporter": "python",
   "pygments_lexer": "ipython3",
   "version": "3.10.9"
  }
 },
 "nbformat": 4,
 "nbformat_minor": 5
}
