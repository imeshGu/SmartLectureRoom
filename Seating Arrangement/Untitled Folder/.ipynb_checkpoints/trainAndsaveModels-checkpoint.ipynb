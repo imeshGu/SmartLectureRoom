{
 "cells": [
  {
   "cell_type": "code",
   "execution_count": 1,
   "id": "96da2535",
   "metadata": {},
   "outputs": [
    {
     "name": "stdout",
     "output_type": "stream",
     "text": [
      "Requirement already satisfied: pandas in c:\\users\\yassa\\appdata\\roaming\\python\\python310\\site-packages (1.5.3)\n",
      "Requirement already satisfied: scikit-learn in c:\\users\\yassa\\appdata\\roaming\\python\\python310\\site-packages (1.2.1)\n",
      "Requirement already satisfied: joblib in c:\\users\\yassa\\appdata\\roaming\\python\\python310\\site-packages (1.2.0)\n",
      "Requirement already satisfied: pytz>=2020.1 in c:\\users\\yassa\\appdata\\roaming\\python\\python310\\site-packages (from pandas) (2022.7.1)\n",
      "Requirement already satisfied: python-dateutil>=2.8.1 in c:\\users\\yassa\\anaconda3\\lib\\site-packages (from pandas) (2.8.2)\n",
      "Requirement already satisfied: numpy>=1.21.0 in c:\\users\\yassa\\appdata\\roaming\\python\\python310\\site-packages (from pandas) (1.23.5)\n",
      "Requirement already satisfied: scipy>=1.3.2 in c:\\users\\yassa\\appdata\\roaming\\python\\python310\\site-packages (from scikit-learn) (1.10.0)\n",
      "Requirement already satisfied: threadpoolctl>=2.0.0 in c:\\users\\yassa\\appdata\\roaming\\python\\python310\\site-packages (from scikit-learn) (3.1.0)\n",
      "Requirement already satisfied: six>=1.5 in c:\\users\\yassa\\anaconda3\\lib\\site-packages (from python-dateutil>=2.8.1->pandas) (1.16.0)\n"
     ]
    },
    {
     "name": "stderr",
     "output_type": "stream",
     "text": [
      "\n",
      "[notice] A new release of pip available: 22.3.1 -> 23.3.1\n",
      "[notice] To update, run: python.exe -m pip install --upgrade pip\n"
     ]
    }
   ],
   "source": [
    "!pip install pandas scikit-learn joblib"
   ]
  },
  {
   "cell_type": "code",
   "execution_count": 2,
   "id": "b267cc56",
   "metadata": {},
   "outputs": [],
   "source": [
    "import pandas as pd\n",
    "import joblib\n",
    "from sklearn.tree import DecisionTreeRegressor, DecisionTreeClassifier\n",
    "from sklearn.preprocessing import LabelEncoder\n",
    "from sklearn.model_selection import train_test_split\n",
    "\n",
    "def load_and_preprocess_data():\n",
    "    df = pd.read_csv('video_wall_data.csv')\n",
    "    le = LabelEncoder()\n",
    "    df['seating_type'] = le.fit_transform(df['seating_type'])\n",
    "    return df, le\n",
    "\n",
    "def train_evaluate_regressor(train_data, features, target):\n",
    "    X_train = train_data[features]\n",
    "    y_train = train_data[target]\n",
    "\n",
    "    model = DecisionTreeRegressor(random_state=42)\n",
    "    model.fit(X_train, y_train)\n",
    "\n",
    "    return model\n",
    "\n",
    "def train_evaluate_classifier(train_data, features, target):\n",
    "    X_train = train_data[features]\n",
    "    y_train = train_data[target]\n",
    "\n",
    "    model = DecisionTreeClassifier(random_state=42)\n",
    "    model.fit(X_train, y_train)\n",
    "\n",
    "    return model\n"
   ]
  },
  {
   "cell_type": "code",
   "execution_count": 3,
   "id": "a9788c0e",
   "metadata": {},
   "outputs": [
    {
     "name": "stdout",
     "output_type": "stream",
     "text": [
      "Models saved successfully!\n"
     ]
    }
   ],
   "source": [
    "# Load and preprocess data\n",
    "df, le = load_and_preprocess_data()\n",
    "\n",
    "# Specify features and targets\n",
    "features = ['height_of_video_wall', 'width_of_video_wall', 'room_length', 'room_width', 'room_height', 'number_of_seats']\n",
    "targets = ['seating_type', 'distance_from_video_wall', 'seats_per_row', 'number_of_rows', 'seats_per_cluster', 'number_of_clusters']\n",
    "\n",
    "# Split the data\n",
    "train_set, _ = train_test_split(df, test_size=0.2, random_state=42)\n",
    "for target in targets[1:]:\n",
    "    train_set = train_set.dropna(subset=[target])\n",
    "\n",
    "# Train and save regression models\n",
    "regression_models = {target: train_evaluate_regressor(train_set, features, target) for target in targets[1:]}\n",
    "joblib.dump(regression_models, 'regression_models.joblib')\n",
    "\n",
    "# Train and save classifier model and label encoder\n",
    "seating_type_model = train_evaluate_classifier(train_set, features, 'seating_type')\n",
    "classifier_model = {'seating_type_model': seating_type_model, 'label_encoder': le}\n",
    "joblib.dump(classifier_model, 'classifier_model_and_label_encoder.joblib')\n",
    "\n",
    "print(\"Models saved successfully!\")"
   ]
  },
  {
   "cell_type": "code",
   "execution_count": null,
   "id": "ab6fdb84",
   "metadata": {},
   "outputs": [],
   "source": []
  }
 ],
 "metadata": {
  "kernelspec": {
   "display_name": "Python 3 (ipykernel)",
   "language": "python",
   "name": "python3"
  },
  "language_info": {
   "codemirror_mode": {
    "name": "ipython",
    "version": 3
   },
   "file_extension": ".py",
   "mimetype": "text/x-python",
   "name": "python",
   "nbconvert_exporter": "python",
   "pygments_lexer": "ipython3",
   "version": "3.10.9"
  }
 },
 "nbformat": 4,
 "nbformat_minor": 5
}
